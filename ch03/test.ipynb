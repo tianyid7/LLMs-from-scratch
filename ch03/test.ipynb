{
 "cells": [
  {
   "metadata": {},
   "cell_type": "markdown",
   "source": "# Self Attention",
   "id": "8327473c4444e176"
  },
  {
   "metadata": {
    "ExecuteTime": {
     "end_time": "2024-08-09T04:50:18.352612Z",
     "start_time": "2024-08-09T04:50:14.145295Z"
    }
   },
   "cell_type": "code",
   "source": [
    "import torch\n",
    "\n",
    "# Say, we have a input sequence of 6 word and each word/token has 3 dimension embedding.\n",
    "# So, the input sequence is of shape (6, 3)\n",
    "inputs = torch.tensor(\n",
    "    [\n",
    "        [0.43, 0.15, 0.89], # word 1, Your (x^1)\n",
    "        [0.55, 0.87, 0.66], # word 2, journey (x^2)\n",
    "        [0.57, 0.85, 0.64], # word 3, starts (x^3)\n",
    "        [0.22, 0.58, 0.33], # word 4, with (x^4)\n",
    "        [0.77, 0.25, 0.10], # word 5, one (x^5)\n",
    "        [0.05, 0.80, 0.55], # word 6, step (x^6)\n",
    "    ]\n",
    ")"
   ],
   "id": "adad96d9e4988a14",
   "outputs": [],
   "execution_count": 2
  },
  {
   "metadata": {},
   "cell_type": "markdown",
   "source": "# Calculate the Context Embedding (For one query)",
   "id": "a7c307b1cf2caf51"
  },
  {
   "metadata": {},
   "cell_type": "markdown",
   "source": "## Calculate the Attention Score Vector",
   "id": "bc6e368487f38b1e"
  },
  {
   "metadata": {
    "ExecuteTime": {
     "end_time": "2024-08-09T04:50:18.358860Z",
     "start_time": "2024-08-09T04:50:18.353863Z"
    }
   },
   "cell_type": "code",
   "source": [
    "query = inputs[1] # query vector, x^2\n",
    "attn_scores_2 = torch.empty(inputs.shape[0])\n",
    "for i, x_i in enumerate(inputs):\n",
    "    attn_scores_2[i] = torch.dot(query, x_i)  # dot product of query and each word/token\n",
    "print(attn_scores_2) # This is the weight score vector for query x^2"
   ],
   "id": "c3f1e18e94737f5d",
   "outputs": [
    {
     "name": "stdout",
     "output_type": "stream",
     "text": [
      "tensor([0.9544, 1.4950, 1.4754, 0.8434, 0.7070, 1.0865])\n"
     ]
    }
   ],
   "execution_count": 3
  },
  {
   "metadata": {},
   "cell_type": "markdown",
   "source": "## Calculate the Attention Weights (Use Sum for Normalization)",
   "id": "ada240619494d569"
  },
  {
   "metadata": {
    "ExecuteTime": {
     "end_time": "2024-08-09T04:50:18.362687Z",
     "start_time": "2024-08-09T04:50:18.359611Z"
    }
   },
   "cell_type": "code",
   "source": [
    "attn_weight_2 = attn_scores_2 / attn_scores_2.sum()\n",
    "\n",
    "print(\"Attention weights:\", attn_weight_2)\n",
    "print(\"Sum:\", attn_weight_2.sum())"
   ],
   "id": "a8c88db4eac59f14",
   "outputs": [
    {
     "name": "stdout",
     "output_type": "stream",
     "text": [
      "Attention weights: tensor([0.1455, 0.2278, 0.2249, 0.1285, 0.1077, 0.1656])\n",
      "Sum: tensor(1.0000)\n"
     ]
    }
   ],
   "execution_count": 4
  },
  {
   "metadata": {},
   "cell_type": "markdown",
   "source": "## Calculate the Attention Weights (Use Softmax for Normalization)",
   "id": "e0957881738f34db"
  },
  {
   "metadata": {
    "ExecuteTime": {
     "end_time": "2024-08-09T04:50:18.367701Z",
     "start_time": "2024-08-09T04:50:18.364019Z"
    }
   },
   "cell_type": "code",
   "source": [
    "attn_weight_2 = torch.nn.functional.softmax(attn_scores_2, dim=0)\n",
    "print(\"Attention weights:\", attn_weight_2)\n",
    "\n",
    "# Or\n",
    "def softmax_naive(x):\n",
    "    return torch.exp(x) / torch.exp(x).sum(dim=0)\n",
    "attn_weight_2 = softmax_naive(attn_scores_2)\n",
    "print(\"Attention weights:\", attn_weight_2)\n",
    "\n",
    "print(\"Sum:\", attn_weight_2.sum())"
   ],
   "id": "95807c8629f4a949",
   "outputs": [
    {
     "name": "stdout",
     "output_type": "stream",
     "text": [
      "Attention weights: tensor([0.1385, 0.2379, 0.2333, 0.1240, 0.1082, 0.1581])\n",
      "Attention weights: tensor([0.1385, 0.2379, 0.2333, 0.1240, 0.1082, 0.1581])\n",
      "Sum: tensor(1.)\n"
     ]
    }
   ],
   "execution_count": 5
  },
  {
   "metadata": {},
   "cell_type": "markdown",
   "source": "## Calculate the Context Embedding",
   "id": "8db2f152be9afc61"
  },
  {
   "metadata": {
    "ExecuteTime": {
     "end_time": "2024-08-09T04:50:18.371507Z",
     "start_time": "2024-08-09T04:50:18.368285Z"
    }
   },
   "cell_type": "code",
   "source": [
    "context_embedding_2 = torch.zeros(query.shape)\n",
    "for i, x_i in enumerate(inputs):\n",
    "    context_embedding_2 += attn_weight_2[i] * x_i\n",
    "    \n",
    "print(\"Context embedding:\", context_embedding_2)"
   ],
   "id": "96215b3cdf45f102",
   "outputs": [
    {
     "name": "stdout",
     "output_type": "stream",
     "text": [
      "Context embedding: tensor([0.4419, 0.6515, 0.5683])\n"
     ]
    }
   ],
   "execution_count": 6
  },
  {
   "metadata": {},
   "cell_type": "markdown",
   "source": "# Calculate the Context Embedding (For a sequence of queries)",
   "id": "e8f6e9ba7bab19db"
  },
  {
   "metadata": {
    "ExecuteTime": {
     "end_time": "2024-08-09T04:50:18.380061Z",
     "start_time": "2024-08-09T04:50:18.372406Z"
    }
   },
   "cell_type": "code",
   "source": [
    "# Create a matrix of Attention Scores\n",
    "attn_scores = torch.empty(inputs.shape[0], inputs.shape[0])\n",
    "\n",
    "for i, x_i in enumerate(inputs):\n",
    "    for j, x_j in enumerate(inputs):\n",
    "        attn_scores[i, j] = torch.dot(x_i, x_j)  # dot product of each word/token with each other\n",
    "\n",
    "print(\"Attention scores matrix:\\n\", attn_scores)\n",
    "\n",
    "# Or, Calculate the Attention Score matrix by using matrix multiplication\n",
    "attn_scores = torch.mm(inputs, torch.t(inputs)) # Input matrix x Input matrix transpose\n",
    "\n",
    "print(\"Attention scores matrix:\\n\", attn_scores)\n",
    "\n",
    "# Or, a simplified presentation of matrix multiplication\n",
    "attn_scores = inputs @ inputs.T\n",
    "\n",
    "print(\"Attention scores matrix:\\n\", attn_scores)"
   ],
   "id": "2f23d9ad178e4356",
   "outputs": [
    {
     "name": "stdout",
     "output_type": "stream",
     "text": [
      "Attention scores matrix:\n",
      " tensor([[0.9995, 0.9544, 0.9422, 0.4753, 0.4576, 0.6310],\n",
      "        [0.9544, 1.4950, 1.4754, 0.8434, 0.7070, 1.0865],\n",
      "        [0.9422, 1.4754, 1.4570, 0.8296, 0.7154, 1.0605],\n",
      "        [0.4753, 0.8434, 0.8296, 0.4937, 0.3474, 0.6565],\n",
      "        [0.4576, 0.7070, 0.7154, 0.3474, 0.6654, 0.2935],\n",
      "        [0.6310, 1.0865, 1.0605, 0.6565, 0.2935, 0.9450]])\n",
      "Attention scores matrix:\n",
      " tensor([[0.9995, 0.9544, 0.9422, 0.4753, 0.4576, 0.6310],\n",
      "        [0.9544, 1.4950, 1.4754, 0.8434, 0.7070, 1.0865],\n",
      "        [0.9422, 1.4754, 1.4570, 0.8296, 0.7154, 1.0605],\n",
      "        [0.4753, 0.8434, 0.8296, 0.4937, 0.3474, 0.6565],\n",
      "        [0.4576, 0.7070, 0.7154, 0.3474, 0.6654, 0.2935],\n",
      "        [0.6310, 1.0865, 1.0605, 0.6565, 0.2935, 0.9450]])\n",
      "Attention scores matrix:\n",
      " tensor([[0.9995, 0.9544, 0.9422, 0.4753, 0.4576, 0.6310],\n",
      "        [0.9544, 1.4950, 1.4754, 0.8434, 0.7070, 1.0865],\n",
      "        [0.9422, 1.4754, 1.4570, 0.8296, 0.7154, 1.0605],\n",
      "        [0.4753, 0.8434, 0.8296, 0.4937, 0.3474, 0.6565],\n",
      "        [0.4576, 0.7070, 0.7154, 0.3474, 0.6654, 0.2935],\n",
      "        [0.6310, 1.0865, 1.0605, 0.6565, 0.2935, 0.9450]])\n"
     ]
    }
   ],
   "execution_count": 7
  },
  {
   "metadata": {},
   "cell_type": "markdown",
   "source": "## Calculate the Attention Weights (Use Softmax for Normalization)",
   "id": "9fdeed56f470d4bf"
  },
  {
   "metadata": {
    "ExecuteTime": {
     "end_time": "2024-08-09T04:50:18.384041Z",
     "start_time": "2024-08-09T04:50:18.380824Z"
    }
   },
   "cell_type": "code",
   "source": [
    "attn_weights = torch.softmax(attn_scores, dim=1)\n",
    "print(\"Attention weights:\\n\", attn_weights)"
   ],
   "id": "dfb7662e547e0177",
   "outputs": [
    {
     "name": "stdout",
     "output_type": "stream",
     "text": [
      "Attention weights:\n",
      " tensor([[0.2098, 0.2006, 0.1981, 0.1242, 0.1220, 0.1452],\n",
      "        [0.1385, 0.2379, 0.2333, 0.1240, 0.1082, 0.1581],\n",
      "        [0.1390, 0.2369, 0.2326, 0.1242, 0.1108, 0.1565],\n",
      "        [0.1435, 0.2074, 0.2046, 0.1462, 0.1263, 0.1720],\n",
      "        [0.1526, 0.1958, 0.1975, 0.1367, 0.1879, 0.1295],\n",
      "        [0.1385, 0.2184, 0.2128, 0.1420, 0.0988, 0.1896]])\n"
     ]
    }
   ],
   "execution_count": 8
  },
  {
   "metadata": {},
   "cell_type": "markdown",
   "source": "## Calculate the Context Embedding",
   "id": "ff03484428c2f38"
  },
  {
   "metadata": {
    "ExecuteTime": {
     "end_time": "2024-08-09T04:50:18.387951Z",
     "start_time": "2024-08-09T04:50:18.384709Z"
    }
   },
   "cell_type": "code",
   "source": [
    "context_embeddings = attn_weights @ inputs\n",
    "print(\"Context embeddings:\\n\", context_embeddings)\n",
    "\n",
    "# Double check the context embedding for query x^2\n",
    "print(\"Context embedding for query x^2:\", context_embeddings[1])\n",
    "print(\"Context embedding for query x^2 (naive):\", context_embedding_2)"
   ],
   "id": "537e62cda34e80d8",
   "outputs": [
    {
     "name": "stdout",
     "output_type": "stream",
     "text": [
      "Context embeddings:\n",
      " tensor([[0.4421, 0.5931, 0.5790],\n",
      "        [0.4419, 0.6515, 0.5683],\n",
      "        [0.4431, 0.6496, 0.5671],\n",
      "        [0.4304, 0.6298, 0.5510],\n",
      "        [0.4671, 0.5910, 0.5266],\n",
      "        [0.4177, 0.6503, 0.5645]])\n",
      "Context embedding for query x^2: tensor([0.4419, 0.6515, 0.5683])\n",
      "Context embedding for query x^2 (naive): tensor([0.4419, 0.6515, 0.5683])\n"
     ]
    }
   ],
   "execution_count": 9
  },
  {
   "metadata": {},
   "cell_type": "markdown",
   "source": "# Scaled Dot-Product Attention",
   "id": "c69c7fb0a4646737"
  },
  {
   "metadata": {},
   "cell_type": "markdown",
   "source": "## Create Weight Matrices for the Query, Key and Value (For one Query)",
   "id": "f81511462a3ceb68"
  },
  {
   "metadata": {
    "ExecuteTime": {
     "end_time": "2024-08-09T04:50:18.390954Z",
     "start_time": "2024-08-09T04:50:18.388963Z"
    }
   },
   "cell_type": "code",
   "source": [
    "x_2 = inputs[1] # query vector, x^2\n",
    "# Define sizes of the weight parameter matrices (query, key, value)\n",
    "d_in = inputs.shape[1]   # This is dimension of the input token\n",
    "d_out = inputs.shape[1] "
   ],
   "id": "9f44636f721cbc68",
   "outputs": [],
   "execution_count": 10
  },
  {
   "metadata": {
    "ExecuteTime": {
     "end_time": "2024-08-09T04:50:18.396852Z",
     "start_time": "2024-08-09T04:50:18.393461Z"
    }
   },
   "cell_type": "code",
   "source": [
    "torch.manual_seed(123)\n",
    "\n",
    "W_query = torch.nn.Parameter(torch.rand(d_in, d_out), requires_grad=False)\n",
    "W_key = torch.nn.Parameter(torch.rand(d_in, d_out), requires_grad=False)\n",
    "W_value = torch.nn.Parameter(torch.rand(d_in, d_out), requires_grad=False)"
   ],
   "id": "5049c63578c44593",
   "outputs": [],
   "execution_count": 11
  },
  {
   "metadata": {
    "ExecuteTime": {
     "end_time": "2024-08-09T04:50:18.401245Z",
     "start_time": "2024-08-09T04:50:18.397756Z"
    }
   },
   "cell_type": "code",
   "source": [
    "query_2 = x_2 @ W_query\n",
    "key_2 = x_2 @ W_key\n",
    "value_2 = x_2 @ W_value\n",
    "\n",
    "print(\"Query:\", query_2)\n",
    "\n",
    "keys = inputs @ W_key\n",
    "values = inputs @ W_value\n",
    "print(\"Key:\", keys)\n",
    "print(\"Value:\", values)"
   ],
   "id": "6bfb1ba3734452ef",
   "outputs": [
    {
     "name": "stdout",
     "output_type": "stream",
     "text": [
      "Query: tensor([0.8520, 0.4161, 1.0138])\n",
      "Key: tensor([[0.6813, 0.2706, 1.0793],\n",
      "        [0.7305, 0.4227, 1.1993],\n",
      "        [0.7355, 0.4227, 1.1901],\n",
      "        [0.3363, 0.2225, 0.6077],\n",
      "        [0.6184, 0.3038, 0.6909],\n",
      "        [0.3178, 0.2383, 0.7426]])\n",
      "Value: tensor([[0.4976, 0.9655, 0.7614],\n",
      "        [0.9074, 1.3518, 1.5075],\n",
      "        [0.8976, 1.3391, 1.4994],\n",
      "        [0.5187, 0.7319, 0.8493],\n",
      "        [0.4699, 0.7336, 0.9307],\n",
      "        [0.6446, 0.9045, 0.9814]])\n"
     ]
    }
   ],
   "execution_count": 12
  },
  {
   "metadata": {},
   "cell_type": "markdown",
   "source": "## Calculate the Attention Scores",
   "id": "a41a54ad3cd0553f"
  },
  {
   "metadata": {
    "ExecuteTime": {
     "end_time": "2024-08-09T04:50:18.404889Z",
     "start_time": "2024-08-09T04:50:18.402108Z"
    }
   },
   "cell_type": "code",
   "source": [
    "attn_scores_2 = query_2 @ keys.T\n",
    "print(\"Attention scores:\", attn_scores_2)"
   ],
   "id": "4efeafa01b76f031",
   "outputs": [
    {
     "name": "stdout",
     "output_type": "stream",
     "text": [
      "Attention scores: tensor([1.7872, 2.0141, 2.0091, 0.9952, 1.3538, 1.1227])\n"
     ]
    }
   ],
   "execution_count": 13
  },
  {
   "metadata": {},
   "cell_type": "markdown",
   "source": "## Calculate the Attention Weights (Use Softmax for Normalization)",
   "id": "1bae51df7eb16382"
  },
  {
   "metadata": {
    "ExecuteTime": {
     "end_time": "2024-08-09T04:50:18.408882Z",
     "start_time": "2024-08-09T04:50:18.405787Z"
    }
   },
   "cell_type": "code",
   "source": [
    "d_k = keys.shape[-1]\n",
    "\n",
    "attn_weight_2 = torch.softmax(attn_scores_2 / d_k**0.5, dim=-1)\n",
    "\n",
    "print(\"Attention weights:\", attn_weight_2)"
   ],
   "id": "b1cd507b10aaa03e",
   "outputs": [
    {
     "name": "stdout",
     "output_type": "stream",
     "text": [
      "Attention weights: tensor([0.1862, 0.2123, 0.2117, 0.1179, 0.1450, 0.1269])\n"
     ]
    }
   ],
   "execution_count": 14
  },
  {
   "metadata": {},
   "cell_type": "markdown",
   "source": "## Calculate the Context Embedding",
   "id": "82a483c8c4f423f9"
  },
  {
   "metadata": {
    "ExecuteTime": {
     "end_time": "2024-08-09T04:50:18.412381Z",
     "start_time": "2024-08-09T04:50:18.409651Z"
    }
   },
   "cell_type": "code",
   "source": [
    "context_embedding_2 = attn_weight_2 @ values\n",
    "print(\"Context embedding:\", context_embedding_2)"
   ],
   "id": "a22fe29b8d55feab",
   "outputs": [
    {
     "name": "stdout",
     "output_type": "stream",
     "text": [
      "Context embedding: tensor([0.6864, 1.0577, 1.1389])\n"
     ]
    }
   ],
   "execution_count": 15
  },
  {
   "metadata": {},
   "cell_type": "markdown",
   "source": "# Implementing a Scaled Dot-Product Attention Class",
   "id": "dcdb003ee4f69569"
  },
  {
   "metadata": {
    "ExecuteTime": {
     "end_time": "2024-08-09T04:50:18.416076Z",
     "start_time": "2024-08-09T04:50:18.413280Z"
    }
   },
   "cell_type": "code",
   "source": [
    "# Use nn.Parameter to create weight matrices\n",
    "import torch.nn as nn\n",
    "\n",
    "class SelfAttention_v1(nn.Module):\n",
    "    def __init__(self, d_in, d_out):\n",
    "        super(SelfAttention_v1, self).__init__()\n",
    "        self.W_query = nn.Parameter(torch.rand(d_in, d_out), requires_grad=False)\n",
    "        self.W_key = nn.Parameter(torch.rand(d_in, d_out), requires_grad=False)\n",
    "        self.W_value = nn.Parameter(torch.rand(d_in, d_out), requires_grad=False)\n",
    "        \n",
    "    def forward(self, inputs):\n",
    "        query = inputs @ self.W_query\n",
    "        key = inputs @ self.W_key\n",
    "        value = inputs @ self.W_value\n",
    "        \n",
    "        attn_scores = query @ key.T\n",
    "        attn_weights = torch.softmax(attn_scores / key.shape[-1]**0.5, dim=-1)\n",
    "        \n",
    "        context_embedding = attn_weights @ value\n",
    "        return context_embedding"
   ],
   "id": "7bd0b8cd69846aa1",
   "outputs": [],
   "execution_count": 16
  },
  {
   "metadata": {
    "ExecuteTime": {
     "end_time": "2024-08-09T04:50:35.040638Z",
     "start_time": "2024-08-09T04:50:35.033908Z"
    }
   },
   "cell_type": "code",
   "source": [
    "# Test the SelfAttention_v1 class\n",
    "torch.manual_seed(123)\n",
    "\n",
    "d_in = inputs.shape[1]\n",
    "d_out = 2\n",
    "\n",
    "self_attn = SelfAttention_v1(d_in, d_out)\n",
    "context_embedding = self_attn(inputs)\n",
    "print(\"Context embeddings:\\n\", context_embedding)"
   ],
   "id": "59fa197078924795",
   "outputs": [
    {
     "name": "stdout",
     "output_type": "stream",
     "text": [
      "Context embeddings:\n",
      " tensor([[0.2996, 0.8053],\n",
      "        [0.3061, 0.8210],\n",
      "        [0.3058, 0.8203],\n",
      "        [0.2948, 0.7939],\n",
      "        [0.2927, 0.7891],\n",
      "        [0.2990, 0.8040]])\n"
     ]
    }
   ],
   "execution_count": 18
  },
  {
   "metadata": {
    "ExecuteTime": {
     "end_time": "2024-08-11T23:24:13.467052Z",
     "start_time": "2024-08-11T23:24:13.461026Z"
    }
   },
   "cell_type": "code",
   "source": [
    "# Use nn.Linear to create weight matrices\n",
    "import torch.nn as nn\n",
    "\n",
    "class SelfAttention_v2(nn.Module):\n",
    "    def __init__(self, d_in, d_out, qkv_bias=False):\n",
    "        super().__init__()\n",
    "        self.W_query = nn.Linear(d_in, d_out, bias=qkv_bias)\n",
    "        self.W_key = nn.Linear(d_in, d_out, bias=qkv_bias)\n",
    "        self.W_value = nn.Linear(d_in, d_out, bias=qkv_bias)\n",
    "\n",
    "    def forward(self, inputs):\n",
    "        query = self.W_query(inputs)\n",
    "        key = self.W_key(inputs)\n",
    "        value = self.W_value(inputs)\n",
    "\n",
    "        attn_scores = query @ key.T\n",
    "        attn_weights = torch.softmax(attn_scores / key.shape[-1]**0.5, dim=-1)\n",
    "\n",
    "        context_embedding = attn_weights @ value\n",
    "        return context_embedding"
   ],
   "id": "956528853ee1bfeb",
   "outputs": [],
   "execution_count": 19
  },
  {
   "metadata": {
    "ExecuteTime": {
     "end_time": "2024-08-11T23:24:47.857769Z",
     "start_time": "2024-08-11T23:24:47.852811Z"
    }
   },
   "cell_type": "code",
   "source": [
    "# Test the SelfAttention_v2 class\n",
    "torch.manual_seed(789)\n",
    "\n",
    "d_in = inputs.shape[1]\n",
    "d_out = 2\n",
    "\n",
    "self_attn = SelfAttention_v2(d_in, d_out)\n",
    "context_embedding = self_attn(inputs)\n",
    "print(\"Context embeddings:\\n\", context_embedding)"
   ],
   "id": "6f14ea98d231bbf8",
   "outputs": [
    {
     "name": "stdout",
     "output_type": "stream",
     "text": [
      "Context embeddings:\n",
      " tensor([[-0.0739,  0.0713],\n",
      "        [-0.0748,  0.0703],\n",
      "        [-0.0749,  0.0702],\n",
      "        [-0.0760,  0.0685],\n",
      "        [-0.0763,  0.0679],\n",
      "        [-0.0754,  0.0693]], grad_fn=<MmBackward0>)\n"
     ]
    }
   ],
   "execution_count": 21
  },
  {
   "metadata": {},
   "cell_type": "code",
   "outputs": [],
   "execution_count": null,
   "source": "",
   "id": "fa098afc142b4048"
  }
 ],
 "metadata": {
  "kernelspec": {
   "display_name": "Python 3",
   "language": "python",
   "name": "python3"
  },
  "language_info": {
   "codemirror_mode": {
    "name": "ipython",
    "version": 2
   },
   "file_extension": ".py",
   "mimetype": "text/x-python",
   "name": "python",
   "nbconvert_exporter": "python",
   "pygments_lexer": "ipython2",
   "version": "2.7.6"
  }
 },
 "nbformat": 4,
 "nbformat_minor": 5
}
