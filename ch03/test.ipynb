{
 "cells": [
  {
   "metadata": {},
   "cell_type": "markdown",
   "source": "# Self Attention",
   "id": "8327473c4444e176"
  },
  {
   "metadata": {
    "ExecuteTime": {
     "end_time": "2024-09-09T20:58:59.724524Z",
     "start_time": "2024-09-09T20:58:55.194352Z"
    }
   },
   "cell_type": "code",
   "source": [
    "import torch\n",
    "\n",
    "# Say, we have a input sequence of 6 word and each word/token has 3 dimension embedding.\n",
    "# So, the input sequence is of shape (6, 3)\n",
    "inputs = torch.tensor(\n",
    "    [\n",
    "        [0.43, 0.15, 0.89], # word 1, Your (x^1)\n",
    "        [0.55, 0.87, 0.66], # word 2, journey (x^2)\n",
    "        [0.57, 0.85, 0.64], # word 3, starts (x^3)\n",
    "        [0.22, 0.58, 0.33], # word 4, with (x^4)\n",
    "        [0.77, 0.25, 0.10], # word 5, one (x^5)\n",
    "        [0.05, 0.80, 0.55], # word 6, step (x^6)\n",
    "    ]\n",
    ")"
   ],
   "id": "adad96d9e4988a14",
   "outputs": [],
   "execution_count": 1
  },
  {
   "metadata": {},
   "cell_type": "markdown",
   "source": "# Calculate the Context Embedding (For one query)",
   "id": "a7c307b1cf2caf51"
  },
  {
   "metadata": {},
   "cell_type": "markdown",
   "source": "## Calculate the Attention Score Vector",
   "id": "bc6e368487f38b1e"
  },
  {
   "metadata": {
    "ExecuteTime": {
     "end_time": "2024-09-09T20:58:59.731121Z",
     "start_time": "2024-09-09T20:58:59.725772Z"
    }
   },
   "cell_type": "code",
   "source": [
    "query = inputs[1] # query vector, x^2\n",
    "attn_scores_2 = torch.empty(inputs.shape[0])\n",
    "for i, x_i in enumerate(inputs):\n",
    "    attn_scores_2[i] = torch.dot(query, x_i)  # dot product of query and each word/token\n",
    "print(attn_scores_2) # This is the weight score vector for query x^2"
   ],
   "id": "c3f1e18e94737f5d",
   "outputs": [
    {
     "name": "stdout",
     "output_type": "stream",
     "text": [
      "tensor([0.9544, 1.4950, 1.4754, 0.8434, 0.7070, 1.0865])\n"
     ]
    }
   ],
   "execution_count": 2
  },
  {
   "metadata": {},
   "cell_type": "markdown",
   "source": "## Calculate the Attention Weights (Use Sum for Normalization)",
   "id": "ada240619494d569"
  },
  {
   "metadata": {
    "ExecuteTime": {
     "end_time": "2024-09-09T20:58:59.734710Z",
     "start_time": "2024-09-09T20:58:59.731983Z"
    }
   },
   "cell_type": "code",
   "source": [
    "attn_weight_2 = attn_scores_2 / attn_scores_2.sum()\n",
    "\n",
    "print(\"Attention weights:\", attn_weight_2)\n",
    "print(\"Sum:\", attn_weight_2.sum())"
   ],
   "id": "a8c88db4eac59f14",
   "outputs": [
    {
     "name": "stdout",
     "output_type": "stream",
     "text": [
      "Attention weights: tensor([0.1455, 0.2278, 0.2249, 0.1285, 0.1077, 0.1656])\n",
      "Sum: tensor(1.0000)\n"
     ]
    }
   ],
   "execution_count": 3
  },
  {
   "metadata": {},
   "cell_type": "markdown",
   "source": "## Calculate the Attention Weights (Use Softmax for Normalization)",
   "id": "e0957881738f34db"
  },
  {
   "metadata": {},
   "cell_type": "code",
   "source": [
    "attn_weight_2 = torch.nn.functional.softmax(attn_scores_2, dim=0)\n",
    "print(\"Attention weights:\", attn_weight_2)\n",
    "\n",
    "# Or\n",
    "def softmax_naive(x):\n",
    "    return torch.exp(x) / torch.exp(x).sum(dim=0)\n",
    "attn_weight_2 = softmax_naive(attn_scores_2)\n",
    "print(\"Attention weights:\", attn_weight_2)\n",
    "\n",
    "print(\"Sum:\", attn_weight_2.sum())"
   ],
   "id": "95807c8629f4a949",
   "outputs": [
    {
     "name": "stdout",
     "output_type": "stream",
     "text": [
      "Attention weights: tensor([0.1385, 0.2379, 0.2333, 0.1240, 0.1082, 0.1581])\n",
      "Attention weights: tensor([0.1385, 0.2379, 0.2333, 0.1240, 0.1082, 0.1581])\n",
      "Sum: tensor(1.)\n"
     ]
    }
   ],
   "execution_count": 4
  },
  {
   "metadata": {},
   "cell_type": "markdown",
   "source": "## Calculate the Context Embedding",
   "id": "8db2f152be9afc61"
  },
  {
   "metadata": {
    "ExecuteTime": {
     "end_time": "2024-09-09T20:58:59.744744Z",
     "start_time": "2024-09-09T20:58:59.740434Z"
    }
   },
   "cell_type": "code",
   "source": [
    "context_embedding_2 = torch.zeros(query.shape)\n",
    "for i, x_i in enumerate(inputs):\n",
    "    context_embedding_2 += attn_weight_2[i] * x_i\n",
    "    \n",
    "print(\"Context embedding:\", context_embedding_2)"
   ],
   "id": "96215b3cdf45f102",
   "outputs": [
    {
     "name": "stdout",
     "output_type": "stream",
     "text": [
      "Context embedding: tensor([0.4419, 0.6515, 0.5683])\n"
     ]
    }
   ],
   "execution_count": 5
  },
  {
   "metadata": {},
   "cell_type": "markdown",
   "source": "# Calculate the Context Embedding (For a sequence of queries)",
   "id": "e8f6e9ba7bab19db"
  },
  {
   "metadata": {
    "ExecuteTime": {
     "end_time": "2024-09-09T20:58:59.755632Z",
     "start_time": "2024-09-09T20:58:59.745522Z"
    }
   },
   "cell_type": "code",
   "source": [
    "# Create a matrix of Attention Scores\n",
    "attn_scores = torch.empty(inputs.shape[0], inputs.shape[0])\n",
    "\n",
    "for i, x_i in enumerate(inputs):\n",
    "    for j, x_j in enumerate(inputs):\n",
    "        attn_scores[i, j] = torch.dot(x_i, x_j)  # dot product of each word/token with each other\n",
    "\n",
    "print(\"Attention scores matrix:\\n\", attn_scores)\n",
    "\n",
    "# Or, Calculate the Attention Score matrix by using matrix multiplication\n",
    "attn_scores = torch.mm(inputs, torch.t(inputs)) # Input matrix x Input matrix transpose\n",
    "\n",
    "print(\"Attention scores matrix:\\n\", attn_scores)\n",
    "\n",
    "# Or, a simplified presentation of matrix multiplication\n",
    "attn_scores = inputs @ inputs.T\n",
    "\n",
    "print(\"Attention scores matrix:\\n\", attn_scores)"
   ],
   "id": "2f23d9ad178e4356",
   "outputs": [
    {
     "name": "stdout",
     "output_type": "stream",
     "text": [
      "Attention scores matrix:\n",
      " tensor([[0.9995, 0.9544, 0.9422, 0.4753, 0.4576, 0.6310],\n",
      "        [0.9544, 1.4950, 1.4754, 0.8434, 0.7070, 1.0865],\n",
      "        [0.9422, 1.4754, 1.4570, 0.8296, 0.7154, 1.0605],\n",
      "        [0.4753, 0.8434, 0.8296, 0.4937, 0.3474, 0.6565],\n",
      "        [0.4576, 0.7070, 0.7154, 0.3474, 0.6654, 0.2935],\n",
      "        [0.6310, 1.0865, 1.0605, 0.6565, 0.2935, 0.9450]])\n",
      "Attention scores matrix:\n",
      " tensor([[0.9995, 0.9544, 0.9422, 0.4753, 0.4576, 0.6310],\n",
      "        [0.9544, 1.4950, 1.4754, 0.8434, 0.7070, 1.0865],\n",
      "        [0.9422, 1.4754, 1.4570, 0.8296, 0.7154, 1.0605],\n",
      "        [0.4753, 0.8434, 0.8296, 0.4937, 0.3474, 0.6565],\n",
      "        [0.4576, 0.7070, 0.7154, 0.3474, 0.6654, 0.2935],\n",
      "        [0.6310, 1.0865, 1.0605, 0.6565, 0.2935, 0.9450]])\n",
      "Attention scores matrix:\n",
      " tensor([[0.9995, 0.9544, 0.9422, 0.4753, 0.4576, 0.6310],\n",
      "        [0.9544, 1.4950, 1.4754, 0.8434, 0.7070, 1.0865],\n",
      "        [0.9422, 1.4754, 1.4570, 0.8296, 0.7154, 1.0605],\n",
      "        [0.4753, 0.8434, 0.8296, 0.4937, 0.3474, 0.6565],\n",
      "        [0.4576, 0.7070, 0.7154, 0.3474, 0.6654, 0.2935],\n",
      "        [0.6310, 1.0865, 1.0605, 0.6565, 0.2935, 0.9450]])\n"
     ]
    }
   ],
   "execution_count": 6
  },
  {
   "metadata": {},
   "cell_type": "markdown",
   "source": "## Calculate the Attention Weights (Use Softmax for Normalization)",
   "id": "9fdeed56f470d4bf"
  },
  {
   "metadata": {
    "ExecuteTime": {
     "end_time": "2024-09-09T20:58:59.759565Z",
     "start_time": "2024-09-09T20:58:59.756563Z"
    }
   },
   "cell_type": "code",
   "source": [
    "attn_weights = torch.softmax(attn_scores, dim=1)\n",
    "print(\"Attention weights:\\n\", attn_weights)"
   ],
   "id": "dfb7662e547e0177",
   "outputs": [
    {
     "name": "stdout",
     "output_type": "stream",
     "text": [
      "Attention weights:\n",
      " tensor([[0.2098, 0.2006, 0.1981, 0.1242, 0.1220, 0.1452],\n",
      "        [0.1385, 0.2379, 0.2333, 0.1240, 0.1082, 0.1581],\n",
      "        [0.1390, 0.2369, 0.2326, 0.1242, 0.1108, 0.1565],\n",
      "        [0.1435, 0.2074, 0.2046, 0.1462, 0.1263, 0.1720],\n",
      "        [0.1526, 0.1958, 0.1975, 0.1367, 0.1879, 0.1295],\n",
      "        [0.1385, 0.2184, 0.2128, 0.1420, 0.0988, 0.1896]])\n"
     ]
    }
   ],
   "execution_count": 7
  },
  {
   "metadata": {},
   "cell_type": "markdown",
   "source": "## Calculate the Context Embedding",
   "id": "ff03484428c2f38"
  },
  {
   "metadata": {
    "ExecuteTime": {
     "end_time": "2024-09-09T20:58:59.763711Z",
     "start_time": "2024-09-09T20:58:59.760496Z"
    }
   },
   "cell_type": "code",
   "source": [
    "context_embeddings = attn_weights @ inputs\n",
    "print(\"Context embeddings:\\n\", context_embeddings)\n",
    "\n",
    "# Double check the context embedding for query x^2\n",
    "print(\"Context embedding for query x^2:\", context_embeddings[1])\n",
    "print(\"Context embedding for query x^2 (naive):\", context_embedding_2)"
   ],
   "id": "537e62cda34e80d8",
   "outputs": [
    {
     "name": "stdout",
     "output_type": "stream",
     "text": [
      "Context embeddings:\n",
      " tensor([[0.4421, 0.5931, 0.5790],\n",
      "        [0.4419, 0.6515, 0.5683],\n",
      "        [0.4431, 0.6496, 0.5671],\n",
      "        [0.4304, 0.6298, 0.5510],\n",
      "        [0.4671, 0.5910, 0.5266],\n",
      "        [0.4177, 0.6503, 0.5645]])\n",
      "Context embedding for query x^2: tensor([0.4419, 0.6515, 0.5683])\n",
      "Context embedding for query x^2 (naive): tensor([0.4419, 0.6515, 0.5683])\n"
     ]
    }
   ],
   "execution_count": 8
  },
  {
   "metadata": {},
   "cell_type": "markdown",
   "source": "# Scaled Dot-Product Attention",
   "id": "c69c7fb0a4646737"
  },
  {
   "metadata": {},
   "cell_type": "markdown",
   "source": "## Create Weight Matrices for the Query, Key and Value (For one Query)",
   "id": "f81511462a3ceb68"
  },
  {
   "metadata": {
    "ExecuteTime": {
     "end_time": "2024-09-09T20:58:59.766502Z",
     "start_time": "2024-09-09T20:58:59.764671Z"
    }
   },
   "cell_type": "code",
   "source": [
    "x_2 = inputs[1] # query vector, x^2\n",
    "# Define sizes of the weight parameter matrices (query, key, value)\n",
    "d_in = inputs.shape[1]   # This is dimension of the input token\n",
    "d_out = inputs.shape[1] "
   ],
   "id": "9f44636f721cbc68",
   "outputs": [],
   "execution_count": 9
  },
  {
   "metadata": {
    "ExecuteTime": {
     "end_time": "2024-09-09T20:58:59.772351Z",
     "start_time": "2024-09-09T20:58:59.768888Z"
    }
   },
   "cell_type": "code",
   "source": [
    "torch.manual_seed(123)\n",
    "\n",
    "W_query = torch.nn.Parameter(torch.rand(d_in, d_out), requires_grad=False)\n",
    "W_key = torch.nn.Parameter(torch.rand(d_in, d_out), requires_grad=False)\n",
    "W_value = torch.nn.Parameter(torch.rand(d_in, d_out), requires_grad=False)"
   ],
   "id": "5049c63578c44593",
   "outputs": [],
   "execution_count": 10
  },
  {
   "metadata": {
    "ExecuteTime": {
     "end_time": "2024-09-09T20:58:59.776345Z",
     "start_time": "2024-09-09T20:58:59.773091Z"
    }
   },
   "cell_type": "code",
   "source": [
    "query_2 = x_2 @ W_query\n",
    "key_2 = x_2 @ W_key\n",
    "value_2 = x_2 @ W_value\n",
    "\n",
    "print(\"Query:\", query_2)\n",
    "\n",
    "keys = inputs @ W_key\n",
    "values = inputs @ W_value\n",
    "print(\"Key:\", keys)\n",
    "print(\"Value:\", values)"
   ],
   "id": "6bfb1ba3734452ef",
   "outputs": [
    {
     "name": "stdout",
     "output_type": "stream",
     "text": [
      "Query: tensor([0.8520, 0.4161, 1.0138])\n",
      "Key: tensor([[0.6813, 0.2706, 1.0793],\n",
      "        [0.7305, 0.4227, 1.1993],\n",
      "        [0.7355, 0.4227, 1.1901],\n",
      "        [0.3363, 0.2225, 0.6077],\n",
      "        [0.6184, 0.3038, 0.6909],\n",
      "        [0.3178, 0.2383, 0.7426]])\n",
      "Value: tensor([[0.4976, 0.9655, 0.7614],\n",
      "        [0.9074, 1.3518, 1.5075],\n",
      "        [0.8976, 1.3391, 1.4994],\n",
      "        [0.5187, 0.7319, 0.8493],\n",
      "        [0.4699, 0.7336, 0.9307],\n",
      "        [0.6446, 0.9045, 0.9814]])\n"
     ]
    }
   ],
   "execution_count": 11
  },
  {
   "metadata": {},
   "cell_type": "markdown",
   "source": "## Calculate the Attention Scores",
   "id": "a41a54ad3cd0553f"
  },
  {
   "metadata": {
    "ExecuteTime": {
     "end_time": "2024-09-09T20:58:59.779504Z",
     "start_time": "2024-09-09T20:58:59.777136Z"
    }
   },
   "cell_type": "code",
   "source": [
    "attn_scores_2 = query_2 @ keys.T\n",
    "print(\"Attention scores:\", attn_scores_2)"
   ],
   "id": "4efeafa01b76f031",
   "outputs": [
    {
     "name": "stdout",
     "output_type": "stream",
     "text": [
      "Attention scores: tensor([1.7872, 2.0141, 2.0091, 0.9952, 1.3538, 1.1227])\n"
     ]
    }
   ],
   "execution_count": 12
  },
  {
   "metadata": {},
   "cell_type": "markdown",
   "source": "## Calculate the Attention Weights (Use Softmax for Normalization)",
   "id": "1bae51df7eb16382"
  },
  {
   "metadata": {
    "ExecuteTime": {
     "end_time": "2024-09-09T20:58:59.783307Z",
     "start_time": "2024-09-09T20:58:59.780421Z"
    }
   },
   "cell_type": "code",
   "source": [
    "d_k = keys.shape[-1]\n",
    "\n",
    "attn_weight_2 = torch.softmax(attn_scores_2 / d_k**0.5, dim=-1)\n",
    "\n",
    "print(\"Attention weights:\", attn_weight_2)"
   ],
   "id": "b1cd507b10aaa03e",
   "outputs": [
    {
     "name": "stdout",
     "output_type": "stream",
     "text": [
      "Attention weights: tensor([0.1862, 0.2123, 0.2117, 0.1179, 0.1450, 0.1269])\n"
     ]
    }
   ],
   "execution_count": 13
  },
  {
   "metadata": {},
   "cell_type": "markdown",
   "source": "## Calculate the Context Embedding",
   "id": "82a483c8c4f423f9"
  },
  {
   "metadata": {
    "ExecuteTime": {
     "end_time": "2024-09-09T20:58:59.786365Z",
     "start_time": "2024-09-09T20:58:59.784121Z"
    }
   },
   "cell_type": "code",
   "source": [
    "context_embedding_2 = attn_weight_2 @ values\n",
    "print(\"Context embedding:\", context_embedding_2)"
   ],
   "id": "a22fe29b8d55feab",
   "outputs": [
    {
     "name": "stdout",
     "output_type": "stream",
     "text": [
      "Context embedding: tensor([0.6864, 1.0577, 1.1389])\n"
     ]
    }
   ],
   "execution_count": 14
  },
  {
   "metadata": {},
   "cell_type": "markdown",
   "source": "# Implementing a Scaled Dot-Product Attention Class",
   "id": "dcdb003ee4f69569"
  },
  {
   "metadata": {
    "ExecuteTime": {
     "end_time": "2024-09-09T20:58:59.789927Z",
     "start_time": "2024-09-09T20:58:59.787088Z"
    }
   },
   "cell_type": "code",
   "source": [
    "# Use nn.Parameter to create weight matrices\n",
    "import torch.nn as nn\n",
    "\n",
    "class SelfAttention_v1(nn.Module):\n",
    "    def __init__(self, d_in, d_out):\n",
    "        super(SelfAttention_v1, self).__init__()\n",
    "        self.W_query = nn.Parameter(torch.rand(d_in, d_out), requires_grad=False)\n",
    "        self.W_key = nn.Parameter(torch.rand(d_in, d_out), requires_grad=False)\n",
    "        self.W_value = nn.Parameter(torch.rand(d_in, d_out), requires_grad=False)\n",
    "        \n",
    "    def forward(self, inputs):\n",
    "        query = inputs @ self.W_query\n",
    "        key = inputs @ self.W_key\n",
    "        value = inputs @ self.W_value\n",
    "        \n",
    "        attn_scores = query @ key.T\n",
    "        attn_weights = torch.softmax(attn_scores / key.shape[-1]**0.5, dim=-1)\n",
    "        \n",
    "        context_embedding = attn_weights @ value\n",
    "        return context_embedding"
   ],
   "id": "7bd0b8cd69846aa1",
   "outputs": [],
   "execution_count": 15
  },
  {
   "metadata": {
    "ExecuteTime": {
     "end_time": "2024-09-09T20:58:59.794576Z",
     "start_time": "2024-09-09T20:58:59.790857Z"
    }
   },
   "cell_type": "code",
   "source": [
    "# Test the SelfAttention_v1 class\n",
    "torch.manual_seed(123)\n",
    "\n",
    "d_in = inputs.shape[1]\n",
    "d_out = 2\n",
    "\n",
    "self_attn_v1 = SelfAttention_v1(d_in, d_out)\n",
    "context_embedding_v1 = self_attn_v1(inputs)\n",
    "print(\"Context embeddings:\\n\", context_embedding_v1)"
   ],
   "id": "59fa197078924795",
   "outputs": [
    {
     "name": "stdout",
     "output_type": "stream",
     "text": [
      "Context embeddings:\n",
      " tensor([[0.2996, 0.8053],\n",
      "        [0.3061, 0.8210],\n",
      "        [0.3058, 0.8203],\n",
      "        [0.2948, 0.7939],\n",
      "        [0.2927, 0.7891],\n",
      "        [0.2990, 0.8040]])\n"
     ]
    }
   ],
   "execution_count": 16
  },
  {
   "metadata": {
    "ExecuteTime": {
     "end_time": "2024-09-09T20:58:59.797923Z",
     "start_time": "2024-09-09T20:58:59.795218Z"
    }
   },
   "cell_type": "code",
   "source": [
    "# Use nn.Linear to create weight matrices\n",
    "import torch.nn as nn\n",
    "\n",
    "class SelfAttention_v2(nn.Module):\n",
    "    def __init__(self, d_in, d_out, qkv_bias=False):\n",
    "        super().__init__()\n",
    "        self.W_query = nn.Linear(d_in, d_out, bias=qkv_bias)\n",
    "        self.W_key = nn.Linear(d_in, d_out, bias=qkv_bias)\n",
    "        self.W_value = nn.Linear(d_in, d_out, bias=qkv_bias)\n",
    "        \n",
    "        self.attn_weights = None\n",
    "\n",
    "    def forward(self, inputs):\n",
    "        query = self.W_query(inputs)\n",
    "        key = self.W_key(inputs)\n",
    "        value = self.W_value(inputs)\n",
    "\n",
    "        attn_scores = query @ key.T\n",
    "        self.attn_weights = torch.softmax(attn_scores / key.shape[-1]**0.5, dim=-1)\n",
    "\n",
    "        context_embedding = attn_weights @ value\n",
    "        return context_embedding"
   ],
   "id": "956528853ee1bfeb",
   "outputs": [],
   "execution_count": 17
  },
  {
   "metadata": {
    "ExecuteTime": {
     "end_time": "2024-09-09T20:58:59.802429Z",
     "start_time": "2024-09-09T20:58:59.798799Z"
    }
   },
   "cell_type": "code",
   "source": [
    "# Test the SelfAttention_v2 class\n",
    "torch.manual_seed(789)\n",
    "\n",
    "d_in = inputs.shape[1]\n",
    "d_out = 2\n",
    "\n",
    "self_attn_v2 = SelfAttention_v2(d_in, d_out)\n",
    "context_embedding_v2 = self_attn_v2(inputs)\n",
    "print(\"Context embeddings:\\n\", context_embedding_v2)"
   ],
   "id": "6f14ea98d231bbf8",
   "outputs": [
    {
     "name": "stdout",
     "output_type": "stream",
     "text": [
      "Context embeddings:\n",
      " tensor([[-0.0858,  0.0607],\n",
      "        [-0.0921,  0.0578],\n",
      "        [-0.0912,  0.0588],\n",
      "        [-0.0885,  0.0572],\n",
      "        [-0.0689,  0.0845],\n",
      "        [-0.0973,  0.0461]], grad_fn=<MmBackward0>)\n"
     ]
    }
   ],
   "execution_count": 18
  },
  {
   "metadata": {
    "ExecuteTime": {
     "end_time": "2024-09-09T20:58:59.806986Z",
     "start_time": "2024-09-09T20:58:59.803335Z"
    }
   },
   "cell_type": "code",
   "source": [
    "# Transfer the weight matrices from SelfAttention_v2 to SelfAttention_v1\n",
    "print(\"Before transfer - V1 Query:\", self_attn_v1.W_query)\n",
    "print(\"Before transfer - V2 Query:\", self_attn_v2.W_query.weight)\n",
    "\n",
    "print(\"Before transfer - V1 Key:\", self_attn_v1.W_key)\n",
    "print(\"Before transfer - V2 Key:\", self_attn_v2.W_key.weight)\n",
    "\n",
    "print(\"Before transfer - V1 Value:\", self_attn_v1.W_value)\n",
    "print(\"Before transfer - V2 Value:\", self_attn_v2.W_value.weight)\n",
    "\n"
   ],
   "id": "fa098afc142b4048",
   "outputs": [
    {
     "name": "stdout",
     "output_type": "stream",
     "text": [
      "Before transfer - V1 Query: Parameter containing:\n",
      "tensor([[0.2961, 0.5166],\n",
      "        [0.2517, 0.6886],\n",
      "        [0.0740, 0.8665]])\n",
      "Before transfer - V2 Query: Parameter containing:\n",
      "tensor([[ 0.3161,  0.4568,  0.5118],\n",
      "        [-0.1683, -0.3379, -0.0918]], requires_grad=True)\n",
      "Before transfer - V1 Key: Parameter containing:\n",
      "tensor([[0.1366, 0.1025],\n",
      "        [0.1841, 0.7264],\n",
      "        [0.3153, 0.6871]])\n",
      "Before transfer - V2 Key: Parameter containing:\n",
      "tensor([[ 0.4058, -0.4704,  0.2368],\n",
      "        [ 0.2134, -0.2601, -0.5105]], requires_grad=True)\n",
      "Before transfer - V1 Value: Parameter containing:\n",
      "tensor([[0.0756, 0.1966],\n",
      "        [0.3164, 0.4017],\n",
      "        [0.1186, 0.8274]])\n",
      "Before transfer - V2 Value: Parameter containing:\n",
      "tensor([[ 0.2526, -0.1415, -0.1962],\n",
      "        [ 0.5191, -0.0852, -0.2043]], requires_grad=True)\n"
     ]
    }
   ],
   "execution_count": 19
  },
  {
   "metadata": {},
   "cell_type": "markdown",
   "source": "# Causal Attention",
   "id": "6017f92e58335be4"
  },
  {
   "metadata": {
    "ExecuteTime": {
     "end_time": "2024-09-09T20:59:59.632938Z",
     "start_time": "2024-09-09T20:59:59.626347Z"
    }
   },
   "cell_type": "code",
   "source": [
    "attn_weight_2 = self_attn_v2.attn_weights\n",
    "\n",
    "print(\"Attention weights:\\n\", attn_weight_2)"
   ],
   "id": "7395613df88dfa30",
   "outputs": [
    {
     "name": "stdout",
     "output_type": "stream",
     "text": [
      "Attention weights:\n",
      " tensor([[0.1921, 0.1646, 0.1652, 0.1550, 0.1721, 0.1510],\n",
      "        [0.2041, 0.1659, 0.1662, 0.1496, 0.1665, 0.1477],\n",
      "        [0.2036, 0.1659, 0.1662, 0.1498, 0.1664, 0.1480],\n",
      "        [0.1869, 0.1667, 0.1668, 0.1571, 0.1661, 0.1564],\n",
      "        [0.1830, 0.1669, 0.1670, 0.1588, 0.1658, 0.1585],\n",
      "        [0.1935, 0.1663, 0.1666, 0.1542, 0.1666, 0.1529]],\n",
      "       grad_fn=<SoftmaxBackward0>)\n"
     ]
    }
   ],
   "execution_count": 21
  },
  {
   "metadata": {
    "ExecuteTime": {
     "end_time": "2024-09-09T21:07:34.308147Z",
     "start_time": "2024-09-09T21:07:34.300722Z"
    }
   },
   "cell_type": "code",
   "source": [
    "# Create a mask for the lower triangular part of the attention matrix\n",
    "length = inputs.shape[0]  # length of the input sequence\n",
    "mask = torch.tril(torch.ones(length, length), diagonal=0)\n",
    "\n",
    "print(\"Mask:\\n\", mask)"
   ],
   "id": "f1169e0dce95c5f9",
   "outputs": [
    {
     "name": "stdout",
     "output_type": "stream",
     "text": [
      "Mask:\n",
      " tensor([[1., 0., 0., 0., 0., 0.],\n",
      "        [1., 1., 0., 0., 0., 0.],\n",
      "        [1., 1., 1., 0., 0., 0.],\n",
      "        [1., 1., 1., 1., 0., 0.],\n",
      "        [1., 1., 1., 1., 1., 0.],\n",
      "        [1., 1., 1., 1., 1., 1.]])\n"
     ]
    }
   ],
   "execution_count": 22
  },
  {
   "metadata": {
    "ExecuteTime": {
     "end_time": "2024-09-09T21:11:32.945892Z",
     "start_time": "2024-09-09T21:11:32.939701Z"
    }
   },
   "cell_type": "code",
   "source": [
    "# Apply the mask to the attention weights\n",
    "attn_weight_2_masked = attn_weight_2 * mask\n",
    "\n",
    "print(\"Attention weights (masked):\\n\", attn_weight_2_masked)"
   ],
   "id": "d9c93ee7c6a7f802",
   "outputs": [
    {
     "name": "stdout",
     "output_type": "stream",
     "text": [
      "Attention weights (masked):\n",
      " tensor([[0.1921, 0.0000, 0.0000, 0.0000, 0.0000, 0.0000],\n",
      "        [0.2041, 0.1659, 0.0000, 0.0000, 0.0000, 0.0000],\n",
      "        [0.2036, 0.1659, 0.1662, 0.0000, 0.0000, 0.0000],\n",
      "        [0.1869, 0.1667, 0.1668, 0.1571, 0.0000, 0.0000],\n",
      "        [0.1830, 0.1669, 0.1670, 0.1588, 0.1658, 0.0000],\n",
      "        [0.1935, 0.1663, 0.1666, 0.1542, 0.1666, 0.1529]],\n",
      "       grad_fn=<MulBackward0>)\n"
     ]
    }
   ],
   "execution_count": 24
  },
  {
   "metadata": {},
   "cell_type": "code",
   "outputs": [],
   "execution_count": null,
   "source": "",
   "id": "8e81215c086e8f35"
  }
 ],
 "metadata": {
  "kernelspec": {
   "display_name": "Python 3",
   "language": "python",
   "name": "python3"
  },
  "language_info": {
   "codemirror_mode": {
    "name": "ipython",
    "version": 2
   },
   "file_extension": ".py",
   "mimetype": "text/x-python",
   "name": "python",
   "nbconvert_exporter": "python",
   "pygments_lexer": "ipython2",
   "version": "2.7.6"
  }
 },
 "nbformat": 4,
 "nbformat_minor": 5
}
