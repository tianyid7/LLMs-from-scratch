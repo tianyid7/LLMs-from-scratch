{
 "cells": [
  {
   "metadata": {},
   "cell_type": "markdown",
   "source": "# Creating Tokens from Text",
   "id": "5c569e724e94aa9f"
  },
  {
   "metadata": {
    "ExecuteTime": {
     "end_time": "2024-07-20T18:07:22.481984Z",
     "start_time": "2024-07-20T18:07:22.477555Z"
    }
   },
   "cell_type": "code",
   "source": [
    "with open(\"01_main-chapter-code/the-verdict.txt\") as f:\n",
    "    raw_text = f.read()\n",
    "print(\"Total number of characters in the text file: \", len(raw_text))\n",
    "print(raw_text[:99])"
   ],
   "id": "initial_id",
   "outputs": [
    {
     "name": "stdout",
     "output_type": "stream",
     "text": [
      "Total number of characters in the text file:  20479\n",
      "I HAD always thought Jack Gisburn rather a cheap genius--though a good fellow enough--so it was no \n"
     ]
    }
   ],
   "execution_count": 20
  },
  {
   "metadata": {
    "ExecuteTime": {
     "end_time": "2024-07-20T18:07:23.826183Z",
     "start_time": "2024-07-20T18:07:23.812392Z"
    }
   },
   "cell_type": "code",
   "source": [
    "import re\n",
    "result = re.split(r'([,.:;?_!\"()\\']|--|\\s)', raw_text)\n",
    "result = [item for item in result if item.strip()] # Remove space strings\n",
    "print(result[:30])\n",
    "print(len(result))"
   ],
   "id": "43927849bb526b33",
   "outputs": [
    {
     "name": "stdout",
     "output_type": "stream",
     "text": [
      "['I', 'HAD', 'always', 'thought', 'Jack', 'Gisburn', 'rather', 'a', 'cheap', 'genius', '--', 'though', 'a', 'good', 'fellow', 'enough', '--', 'so', 'it', 'was', 'no', 'great', 'surprise', 'to', 'me', 'to', 'hear', 'that', ',', 'in']\n",
      "4690\n"
     ]
    }
   ],
   "execution_count": 21
  },
  {
   "metadata": {},
   "cell_type": "markdown",
   "source": "# Converting Tokens into Token IDs",
   "id": "9a8744bba0349c18"
  },
  {
   "metadata": {},
   "cell_type": "markdown",
   "source": "## Creating Vocabulary",
   "id": "1a9eaa58d8417763"
  },
  {
   "metadata": {
    "ExecuteTime": {
     "end_time": "2024-07-20T18:15:03.619629Z",
     "start_time": "2024-07-20T18:15:03.616157Z"
    }
   },
   "cell_type": "code",
   "source": [
    "all_words = sorted(set(result))  # Get unique words and sort them\n",
    "vocab_size = len(all_words)\n",
    "print(\"Total number of unique words in the text file: \", vocab_size)"
   ],
   "id": "e7c81abefb7109a7",
   "outputs": [
    {
     "name": "stdout",
     "output_type": "stream",
     "text": [
      "Total number of unique words in the text file:  1130\n"
     ]
    }
   ],
   "execution_count": 37
  },
  {
   "metadata": {
    "ExecuteTime": {
     "end_time": "2024-07-20T18:15:04.957885Z",
     "start_time": "2024-07-20T18:15:04.952629Z"
    }
   },
   "cell_type": "code",
   "source": [
    "vocab = {token: integer for integer, token in enumerate(all_words)}  # Create a dictionary of tokens and their IDs\n",
    "for i, item in enumerate(list(vocab.items())[-5:]):\n",
    "    print(item)\n",
    "    if i > 10:\n",
    "        break"
   ],
   "id": "3211f86d5d42d0dd",
   "outputs": [
    {
     "name": "stdout",
     "output_type": "stream",
     "text": [
      "('yet', 1125)\n",
      "('you', 1126)\n",
      "('younger', 1127)\n",
      "('your', 1128)\n",
      "('yourself', 1129)\n"
     ]
    }
   ],
   "execution_count": 38
  },
  {
   "metadata": {},
   "cell_type": "markdown",
   "source": "## Implementing a Simple Text Tokenizer",
   "id": "31661dbee8b16868"
  },
  {
   "metadata": {
    "ExecuteTime": {
     "end_time": "2024-07-20T03:50:12.793300Z",
     "start_time": "2024-07-20T03:50:12.788452Z"
    }
   },
   "cell_type": "code",
   "source": [
    "class SimpleTokenizerV1:\n",
    "    def __init__(self, vocabulary): # We must have a vocabulary to initialize the tokenizer\n",
    "        self.str_to_int = vocabulary  # Dictionary of tokens and their IDs {\"token1\": 0, ...}\n",
    "        self.int_to_str = {v: k for k, v in vocabulary.items()}  # Dictionary of IDs and their tokens {0: \"token1\", ...}\n",
    "        \n",
    "    def encode(self, text):\n",
    "        # Convert text to a list of token IDs\n",
    "        preprocessed_text = re.split(r'([,.:;?_!\"()\\']|--|\\s)', text)\n",
    "        preprocessed_text = [item.strip() for item in preprocessed_text if item.strip()]\n",
    "        ids = [self.str_to_int[token] for token in preprocessed_text]\n",
    "        return ids  # return a list of token IDs\n",
    "    \n",
    "    def decode(self, ids):\n",
    "        # Convert a list of token IDs to text with spaces\n",
    "        text = \" \".join([self.int_to_str[id] for id in ids])\n",
    "        \n",
    "        text = re.sub(r'\\s+([,.?!\"()\\'])', r'\\1', text)  # Remove spaces before punctuation\n",
    "        return text"
   ],
   "id": "9f720aec1ba8c470",
   "outputs": [],
   "execution_count": 13
  },
  {
   "metadata": {
    "ExecuteTime": {
     "end_time": "2024-07-20T18:06:34.241430Z",
     "start_time": "2024-07-20T18:06:34.235104Z"
    }
   },
   "cell_type": "code",
   "source": [
    "tokenizer = SimpleTokenizerV1(vocab)\n",
    "text = \"\"\"\"It's the last he painted, you know,\" Mrs. Gisburn said with pardonable pride.\"\"\"\n",
    "ids = tokenizer.encode(text)\n",
    "print(ids)\n",
    "print(tokenizer.decode(ids))"
   ],
   "id": "dc34dbb566eb2aef",
   "outputs": [
    {
     "name": "stdout",
     "output_type": "stream",
     "text": [
      "[1, 56, 2, 850, 988, 602, 533, 746, 5, 1126, 596, 5, 1, 67, 7, 38, 851, 1108, 754, 793, 7]\n",
      "\" It' s the last he painted, you know,\" Mrs. Gisburn said with pardonable pride.\n"
     ]
    }
   ],
   "execution_count": 19
  },
  {
   "metadata": {},
   "cell_type": "markdown",
   "source": "## SimpleTokenizerV1 doesn't handle unknown tokens. Create a new tokenizer SimpleTokenizerV2 that handles unknown tokens.",
   "id": "d252eaa059c419a8"
  },
  {
   "metadata": {
    "ExecuteTime": {
     "end_time": "2024-07-20T18:16:37.498147Z",
     "start_time": "2024-07-20T18:16:37.493770Z"
    }
   },
   "cell_type": "code",
   "source": [
    "all_words.extend([\"<|endoftext|>\", \"<|unk|>\"])  # Add special tokens for end of text and unknown words\n",
    "vocab = {token:integer for integer,token in enumerate(all_words)}  # Create a new vocabulary\n",
    "\n",
    "for i, item in enumerate(list(vocab.items())[-5:]):\n",
    "    print(item)"
   ],
   "id": "2195269c56db1a61",
   "outputs": [
    {
     "name": "stdout",
     "output_type": "stream",
     "text": [
      "('younger', 1127)\n",
      "('your', 1128)\n",
      "('yourself', 1129)\n",
      "('<|endoftext|>', 1132)\n",
      "('<|unk|>', 1133)\n"
     ]
    }
   ],
   "execution_count": 40
  },
  {
   "metadata": {
    "ExecuteTime": {
     "end_time": "2024-07-20T18:22:31.402541Z",
     "start_time": "2024-07-20T18:22:31.397922Z"
    }
   },
   "cell_type": "code",
   "source": [
    "class SimpleTokenizerV2:\n",
    "    def __init__(self, vocabulary): # We must have a vocabulary to initialize the tokenizer\n",
    "        self.str_to_int = vocabulary  # Dictionary of tokens and their IDs {\"token1\": 0, ...}\n",
    "        self.int_to_str = {v: k for k, v in vocabulary.items()}  # Dictionary of IDs and their tokens {0: \"token1\", ...}\n",
    "        \n",
    "    def encode(self, text) -> list:\n",
    "        preprocessed_tokens = re.split(r'([,.:;?_!\"()\\']|--|\\s)', text)\n",
    "        preprocessed_tokens = [item.strip() for item in preprocessed_tokens if item.strip()]  # remove empty space strings and empty strings\n",
    "        preprocessed_tokens = [item if item in self.str_to_int else \"<|unk|>\" for item in preprocessed_tokens]  # Replace unknown words from source text with <|unk|>\n",
    "        \n",
    "        ids = [self.str_to_int[token] for token in preprocessed_tokens]\n",
    "        return ids\n",
    "    \n",
    "    def decode(self, ids) -> str:\n",
    "        decoded_text = \" \".join([self.int_to_str[i] for i in ids])\n",
    "        decoded_text = re.sub(r'\\s+([,.?!\"()\\'])', r'\\1', decoded_text) # Remove spaces before punctuation\n",
    "        return decoded_text\n",
    "        "
   ],
   "id": "955f10a9bd3743a2",
   "outputs": [],
   "execution_count": 41
  },
  {
   "metadata": {
    "ExecuteTime": {
     "end_time": "2024-07-20T18:23:18.947575Z",
     "start_time": "2024-07-20T18:23:18.944352Z"
    }
   },
   "cell_type": "code",
   "source": [
    "text1 = \"Hello, do you like tea?\"\n",
    "text2 = \"In the sunlit terraces of the palace.\"\n",
    "text = \" <|endoftext|> \".join((text1, text2))\n",
    "print(text)"
   ],
   "id": "626cffb61f8d5502",
   "outputs": [
    {
     "name": "stdout",
     "output_type": "stream",
     "text": [
      "Hello, do you like tea? <|endoftext|> In the sunlit terraces of the palace.\n"
     ]
    }
   ],
   "execution_count": 43
  },
  {
   "metadata": {
    "ExecuteTime": {
     "end_time": "2024-07-20T18:24:03.352142Z",
     "start_time": "2024-07-20T18:24:03.348750Z"
    }
   },
   "cell_type": "code",
   "source": [
    "tokenizer = SimpleTokenizerV2(vocab)\n",
    "print(tokenizer.encode(text))\n",
    "print(tokenizer.decode(tokenizer.encode(text)))"
   ],
   "id": "8c573a07f7215ebf",
   "outputs": [
    {
     "name": "stdout",
     "output_type": "stream",
     "text": [
      "[1133, 5, 355, 1126, 628, 975, 10, 1132, 55, 988, 956, 984, 722, 988, 1133, 7]\n",
      "<|unk|>, do you like tea? <|endoftext|> In the sunlit terraces of the <|unk|>.\n"
     ]
    }
   ],
   "execution_count": 45
  },
  {
   "metadata": {},
   "cell_type": "markdown",
   "source": "## A Tokenzier Which can Handle Any Unknown Words: Byte Pair Encoding (BPE)",
   "id": "2da0dfef2696f863"
  },
  {
   "metadata": {
    "ExecuteTime": {
     "end_time": "2024-07-20T23:06:30.160439Z",
     "start_time": "2024-07-20T23:06:30.084057Z"
    }
   },
   "cell_type": "code",
   "source": [
    "# Use tiktoken library to implement BPE\n",
    "import tiktoken\n",
    "from importlib.metadata import version\n",
    "print(version(\"tiktoken\"))"
   ],
   "id": "eb96f91d503207d",
   "outputs": [
    {
     "name": "stdout",
     "output_type": "stream",
     "text": [
      "0.5.2\n"
     ]
    }
   ],
   "execution_count": 46
  },
  {
   "metadata": {
    "ExecuteTime": {
     "end_time": "2024-07-20T23:13:43.754014Z",
     "start_time": "2024-07-20T23:13:43.751095Z"
    }
   },
   "cell_type": "code",
   "source": "tokenizer = tiktoken.get_encoding(\"gpt2\")",
   "id": "527fc3961990c781",
   "outputs": [],
   "execution_count": 55
  },
  {
   "metadata": {
    "ExecuteTime": {
     "end_time": "2024-07-20T23:18:05.728505Z",
     "start_time": "2024-07-20T23:18:05.726085Z"
    }
   },
   "cell_type": "code",
   "source": [
    "text = \"Hello, do you like tea? <|endoftext|> In the sunlit terraces of someunknownPlace. Akwirw ier.\"\n",
    "ids = tokenizer.encode(text, allowed_special={\"<|endoftext|>\"})\n",
    "print(ids)\n",
    "\n",
    "text = tokenizer.decode(ids)\n",
    "print(text)"
   ],
   "id": "99c6a7dbd41ad202",
   "outputs": [
    {
     "name": "stdout",
     "output_type": "stream",
     "text": [
      "[15496, 11, 466, 345, 588, 8887, 30, 220, 50256, 554, 262, 4252, 18250, 8812, 2114, 286, 617, 34680, 27271, 13, 9084, 86, 343, 86, 220, 959, 13]\n",
      "Hello, do you like tea? <|endoftext|> In the sunlit terraces of someunknownPlace. Akwirw ier.\n"
     ]
    }
   ],
   "execution_count": 59
  },
  {
   "metadata": {},
   "cell_type": "markdown",
   "source": "## Data Sampling with a Sliding Window",
   "id": "db13845cf7990545"
  },
  {
   "metadata": {
    "ExecuteTime": {
     "end_time": "2024-07-21T02:56:18.215771Z",
     "start_time": "2024-07-21T02:56:18.207139Z"
    }
   },
   "cell_type": "code",
   "source": [
    "with open(\"01_main-chapter-code/the-verdict.txt\") as f:\n",
    "    raw_text = f.read()\n",
    "\n",
    "tokenizer = tiktoken.get_encoding(\"gpt2\")\n",
    "enc_text = tokenizer.encode(raw_text)\n",
    "print(len(enc_text))"
   ],
   "id": "f28cfac622ec6b94",
   "outputs": [
    {
     "name": "stdout",
     "output_type": "stream",
     "text": [
      "5145\n"
     ]
    }
   ],
   "execution_count": 60
  },
  {
   "metadata": {
    "ExecuteTime": {
     "end_time": "2024-07-21T02:59:03.056907Z",
     "start_time": "2024-07-21T02:59:03.054580Z"
    }
   },
   "cell_type": "code",
   "source": "enc_sample = enc_text[50:] # Take a sample of the text",
   "id": "8d397529c216b3d8",
   "outputs": [],
   "execution_count": 61
  },
  {
   "metadata": {
    "ExecuteTime": {
     "end_time": "2024-07-21T03:01:18.471978Z",
     "start_time": "2024-07-21T03:01:18.468684Z"
    }
   },
   "cell_type": "code",
   "source": [
    "# Create Input/Target Pairs by using a sliding window\n",
    "context_size = 4\n",
    "x = enc_sample[:context_size] # Input is the first 4 tokens of sampled text [0:4]\n",
    "y = enc_sample[1:context_size+1] # Target is the next 4 tokens of sampled text [1:5] (Right shift by 1)\n",
    "print(f\"x: {x}\")\n",
    "print(f\"y:      {y}\")"
   ],
   "id": "d4f6ac820e93a827",
   "outputs": [
    {
     "name": "stdout",
     "output_type": "stream",
     "text": [
      "x: [290, 4920, 2241, 287]\n",
      "y:      [4920, 2241, 287, 257]\n"
     ]
    }
   ],
   "execution_count": 62
  },
  {
   "metadata": {
    "ExecuteTime": {
     "end_time": "2024-07-21T03:07:20.427143Z",
     "start_time": "2024-07-21T03:07:20.417943Z"
    }
   },
   "cell_type": "code",
   "source": [
    "# context and desired are encoded token ids (integers)\n",
    "for i in range(1, context_size+1):\n",
    "    context = enc_sample[:i]\n",
    "    desired = enc_sample[i]\n",
    "    print(context, \"---->\", desired)    "
   ],
   "id": "f6cf315c9e64399c",
   "outputs": [
    {
     "name": "stdout",
     "output_type": "stream",
     "text": [
      "[290] ----> 4920\n",
      "[290, 4920] ----> 2241\n",
      "[290, 4920, 2241] ----> 287\n",
      "[290, 4920, 2241, 287] ----> 257\n"
     ]
    }
   ],
   "execution_count": 66
  },
  {
   "metadata": {
    "ExecuteTime": {
     "end_time": "2024-07-21T03:24:03.134075Z",
     "start_time": "2024-07-21T03:24:03.130575Z"
    }
   },
   "cell_type": "code",
   "source": [
    "# Do the above loop again with the decoded token ids\n",
    "for i in range(1, context_size+1):\n",
    "    context = enc_sample[:i]  # list\n",
    "    desired = enc_sample[i]  # integer, so need to convert to list\n",
    "    print(tokenizer.decode(context), \"---->\", tokenizer.decode([desired]))"
   ],
   "id": "396d9655d611a440",
   "outputs": [
    {
     "name": "stdout",
     "output_type": "stream",
     "text": [
      " and ---->  established\n",
      " and established ---->  himself\n",
      " and established himself ---->  in\n",
      " and established himself in ---->  a\n"
     ]
    }
   ],
   "execution_count": 70
  },
  {
   "metadata": {},
   "cell_type": "markdown",
   "source": "# Use a PyTorch Data Loader To Create PyTorch Tensors",
   "id": "932cffe3012818d5"
  },
  {
   "metadata": {
    "ExecuteTime": {
     "end_time": "2024-07-21T17:11:38.675111Z",
     "start_time": "2024-07-21T17:11:36.713073Z"
    }
   },
   "cell_type": "code",
   "source": [
    "import torch\n",
    "from torch.utils.data import Dataset, DataLoader"
   ],
   "id": "3fa54078dca18ce6",
   "outputs": [],
   "execution_count": 71
  },
  {
   "metadata": {
    "ExecuteTime": {
     "end_time": "2024-07-21T19:08:09.885935Z",
     "start_time": "2024-07-21T19:08:09.879050Z"
    }
   },
   "cell_type": "code",
   "source": [
    "from torch import Tensor\n",
    "\n",
    "\n",
    "# Define the Dataset class\n",
    "class GPTDataSetV1(Dataset):\n",
    "    def __init__(self, txt, tokenizer, max_length, stride):\n",
    "        \"\"\"\n",
    "        :param txt: source text\n",
    "        :param tokenizer: tokenizer object\n",
    "        :param max_length: number of token ids in a chunk\n",
    "        :param stride: shift across batches. For example, input/target pair batch 1 is [0:4]/[1:5], batch 2 is [1:5]/[2:6], etc.\n",
    "        \"\"\"\n",
    "        self.input_ids = []  # A list of tensors, or a multi-dimension array\n",
    "        self.target_ids = [] # A list of tensors, or a multi-dimension array\n",
    "        \n",
    "        token_ids = tokenizer.encode(txt)  # Tokenize the text and create token ids\n",
    "        \n",
    "        # Create input/target pairs using a sliding window\n",
    "        for i in range(0, len(token_ids) - max_length, stride):\n",
    "            input_chunk = token_ids[i:i+max_length]\n",
    "            target_chunk = token_ids[i+1:i+max_length+1]\n",
    "            self.input_ids.append(torch.tensor(input_chunk))\n",
    "            self.target_ids.append(torch.tensor(target_chunk))\n",
    "    \n",
    "    def __len__(self):\n",
    "        return len(self.input_ids)\n",
    "    \n",
    "    def __getitem__(self, idx) -> (Tensor, Tensor):\n",
    "        # Returns a pair of 1D tensors (input_ids, target_ids) at the index idx\n",
    "        return self.input_ids[idx], self.target_ids[idx]"
   ],
   "id": "48b1a5b90adb9b3d",
   "outputs": [],
   "execution_count": 83
  },
  {
   "metadata": {
    "ExecuteTime": {
     "end_time": "2024-07-21T19:08:11.637134Z",
     "start_time": "2024-07-21T19:08:11.632903Z"
    }
   },
   "cell_type": "code",
   "source": [
    "def create_dataloader_v1(txt, batch_size=4, max_length=256, stride=128, shuffle=True, drop_last=True, num_workers=0):\n",
    "    tokenizer = tiktoken.get_encoding(\"gpt2\")\n",
    "    dataset = GPTDataSetV1(txt, tokenizer, max_length, stride)\n",
    "    \n",
    "    return DataLoader(dataset, batch_size=batch_size, shuffle=shuffle, drop_last=drop_last, num_workers=num_workers)"
   ],
   "id": "e5d264d50097cef",
   "outputs": [],
   "execution_count": 84
  },
  {
   "metadata": {
    "ExecuteTime": {
     "end_time": "2024-07-21T19:08:13.680183Z",
     "start_time": "2024-07-21T19:08:13.659479Z"
    }
   },
   "cell_type": "code",
   "source": [
    "# Use PyTorch DataLoader to get tensors of input/target pairs with length of 4 from raw text\n",
    "with open(\"01_main-chapter-code/the-verdict.txt\") as f:\n",
    "    raw_text = f.read()\n",
    "\n",
    "# batch_size: number of batches in input tensors or target tensors\n",
    "# max_length: number of token ids in a batch\n",
    "# stride: shift across batches in input tensors\n",
    "data_loader = create_dataloader_v1(raw_text, batch_size=2, max_length=4, stride=4, shuffle=False)\n",
    "\n",
    "data_iter = iter(data_loader) # Iteration of the input/target tensor pairs\n",
    "print(next(data_iter))"
   ],
   "id": "e79e3f44754d082d",
   "outputs": [
    {
     "name": "stdout",
     "output_type": "stream",
     "text": [
      "[tensor([[  40,  367, 2885, 1464],\n",
      "        [1807, 3619,  402,  271]]), tensor([[  367,  2885,  1464,  1807],\n",
      "        [ 3619,   402,   271, 10899]])]\n"
     ]
    }
   ],
   "execution_count": 85
  },
  {
   "metadata": {},
   "cell_type": "markdown",
   "source": "# Creating Embeddings",
   "id": "460ba63016df4854"
  },
  {
   "metadata": {
    "ExecuteTime": {
     "end_time": "2024-07-21T19:33:39.146062Z",
     "start_time": "2024-07-21T19:33:39.075403Z"
    }
   },
   "cell_type": "code",
   "source": [
    "# Creating a Embedding Layer\n",
    "torch.manual_seed(123)\n",
    "\n",
    "vocab_size = 10 # 50,257 words in the BPE tokenizer vocabulary\n",
    "output_dim = 4 # In GPT-3, the embedding size is 12,288 dimensions\n",
    "\n",
    "embedding_layer = torch.nn.Embedding(vocab_size, output_dim)\n",
    "print(embedding_layer.weight)"
   ],
   "id": "7c6da2038bb8d98b",
   "outputs": [
    {
     "name": "stdout",
     "output_type": "stream",
     "text": [
      "Parameter containing:\n",
      "tensor([[ 0.3374, -0.1778, -0.3035, -0.5880],\n",
      "        [ 0.3486,  0.6603, -0.2196, -0.3792],\n",
      "        [ 0.7671, -1.1925,  0.6984, -1.4097],\n",
      "        [ 0.1794,  1.8951,  0.4954,  0.2692],\n",
      "        [-0.0770, -1.0205, -0.1690,  0.9178],\n",
      "        [ 1.5810,  1.3010,  1.2753, -0.2010],\n",
      "        [ 0.9624,  0.2492, -0.4845, -2.0929],\n",
      "        [-0.8199, -0.4210, -0.9620,  1.2825],\n",
      "        [-0.3430, -0.6821, -0.9887, -1.7018],\n",
      "        [-0.7498, -1.1285,  0.4135,  0.2892]], requires_grad=True)\n"
     ]
    }
   ],
   "execution_count": 86
  },
  {
   "metadata": {
    "ExecuteTime": {
     "end_time": "2024-07-21T22:15:15.993937Z",
     "start_time": "2024-07-21T22:15:15.981088Z"
    }
   },
   "cell_type": "code",
   "source": [
    "# For example, we have an input tensor\n",
    "input_ids = torch.tensor([2, 3, 5, 1])\n",
    "print(embedding_layer(input_ids))"
   ],
   "id": "3840b8b36e9500e6",
   "outputs": [
    {
     "name": "stdout",
     "output_type": "stream",
     "text": [
      "tensor([[ 0.7671, -1.1925,  0.6984, -1.4097],\n",
      "        [ 0.1794,  1.8951,  0.4954,  0.2692],\n",
      "        [ 1.5810,  1.3010,  1.2753, -0.2010],\n",
      "        [ 0.3486,  0.6603, -0.2196, -0.3792]], grad_fn=<EmbeddingBackward0>)\n"
     ]
    }
   ],
   "execution_count": 87
  },
  {
   "metadata": {},
   "cell_type": "markdown",
   "source": "## Now Create Embeddings for a Text",
   "id": "900326a90a23a4df"
  },
  {
   "metadata": {},
   "cell_type": "markdown",
   "source": "### Input Token Embeddings",
   "id": "102d3acfc6f31efd"
  },
  {
   "metadata": {
    "ExecuteTime": {
     "end_time": "2024-07-21T22:39:25.487478Z",
     "start_time": "2024-07-21T22:39:25.325525Z"
    }
   },
   "cell_type": "code",
   "source": [
    "vocab_size = 50257\n",
    "output_dim = 256\n",
    "\n",
    "max_length = 4\n",
    "dataloader = create_dataloader_v1(raw_text, batch_size=8, max_length=max_length, stride=max_length, shuffle=False)\n",
    "data_iter = iter(dataloader)\n",
    "\n",
    "inputs, targets = next(data_iter)\n",
    "\n",
    "print(\"Input Token IDs: \\n\", inputs)\n",
    "print(\"\\nInputs shape:\\n\", inputs.shape)\n",
    "\n",
    "token_embedding_layer = torch.nn.Embedding(vocab_size, output_dim)\n",
    "print(\"\\nEmbedding Layer:\\n\", token_embedding_layer)\n",
    "input_embeddings = token_embedding_layer(inputs)\n",
    "print(\"\\nInput Embeddings Shape:\\n\", input_embeddings.shape)"
   ],
   "id": "a00f1cd7dbb1c931",
   "outputs": [
    {
     "name": "stdout",
     "output_type": "stream",
     "text": [
      "Input Token IDs: \n",
      " tensor([[   40,   367,  2885,  1464],\n",
      "        [ 1807,  3619,   402,   271],\n",
      "        [10899,  2138,   257,  7026],\n",
      "        [15632,   438,  2016,   257],\n",
      "        [  922,  5891,  1576,   438],\n",
      "        [  568,   340,   373,   645],\n",
      "        [ 1049,  5975,   284,   502],\n",
      "        [  284,  3285,   326,    11]])\n",
      "\n",
      "Inputs shape:\n",
      " torch.Size([8, 4])\n",
      "\n",
      "Embedding Layer:\n",
      " Embedding(50257, 256)\n",
      "\n",
      "Input Embeddings Shape:\n",
      " torch.Size([8, 4, 256])\n"
     ]
    }
   ],
   "execution_count": 92
  },
  {
   "metadata": {},
   "cell_type": "markdown",
   "source": "### Input Positional Embeddings (Context Embeddings)",
   "id": "1ffff8694594edd0"
  },
  {
   "metadata": {
    "ExecuteTime": {
     "end_time": "2024-07-21T23:04:51.597402Z",
     "start_time": "2024-07-21T23:04:51.590017Z"
    }
   },
   "cell_type": "code",
   "source": [
    "context_length = max_length # Positional context has the same number of tokens in a batch\n",
    "pos_embedding_layer = torch.nn.Embedding(context_length, output_dim)  # We only need the same number of positional embeddings as the number of tokens in a batch\n",
    "\n",
    "pos_embeddings = pos_embedding_layer(torch.arange(context_length))  # torch.arrange creates a tensor with values from 0 to context_length-1\n",
    "print(pos_embeddings.shape)"
   ],
   "id": "6ae201ba266df453",
   "outputs": [
    {
     "name": "stdout",
     "output_type": "stream",
     "text": [
      "torch.Size([4, 256])\n"
     ]
    }
   ],
   "execution_count": 97
  },
  {
   "metadata": {},
   "cell_type": "markdown",
   "source": "## Combine Input Token Embeddings and Positional Embeddings to Input Embeddings",
   "id": "7adf60811de12862"
  },
  {
   "metadata": {
    "ExecuteTime": {
     "end_time": "2024-07-21T23:05:30.539651Z",
     "start_time": "2024-07-21T23:05:30.535172Z"
    }
   },
   "cell_type": "code",
   "source": [
    "input_embeddings = input_embeddings + pos_embeddings\n",
    "print(input_embeddings.shape)"
   ],
   "id": "93a4ab25808681c7",
   "outputs": [
    {
     "name": "stdout",
     "output_type": "stream",
     "text": [
      "torch.Size([8, 4, 256])\n"
     ]
    }
   ],
   "execution_count": 98
  },
  {
   "metadata": {},
   "cell_type": "code",
   "outputs": [],
   "execution_count": null,
   "source": "",
   "id": "5b179f6149d91e03"
  }
 ],
 "metadata": {
  "kernelspec": {
   "display_name": "Python 3",
   "language": "python",
   "name": "python3"
  },
  "language_info": {
   "codemirror_mode": {
    "name": "ipython",
    "version": 2
   },
   "file_extension": ".py",
   "mimetype": "text/x-python",
   "name": "python",
   "nbconvert_exporter": "python",
   "pygments_lexer": "ipython2",
   "version": "2.7.6"
  }
 },
 "nbformat": 4,
 "nbformat_minor": 5
}
