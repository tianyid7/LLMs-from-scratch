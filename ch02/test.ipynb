{
 "cells": [
  {
   "metadata": {},
   "cell_type": "markdown",
   "source": "# Creating Tokens from Text",
   "id": "5c569e724e94aa9f"
  },
  {
   "metadata": {
    "ExecuteTime": {
     "end_time": "2024-07-20T03:03:43.947273Z",
     "start_time": "2024-07-20T03:03:43.942290Z"
    }
   },
   "cell_type": "code",
   "source": [
    "with open(\"01_main-chapter-code/the-verdict.txt\") as f:\n",
    "    raw_text = f.read()\n",
    "print(\"Total number of characters in the text file: \", len(raw_text))\n",
    "print(raw_text[:99])"
   ],
   "id": "initial_id",
   "outputs": [
    {
     "name": "stdout",
     "output_type": "stream",
     "text": [
      "Total number of characters in the text file:  20479\n",
      "I HAD always thought Jack Gisburn rather a cheap genius--though a good fellow enough--so it was no \n"
     ]
    }
   ],
   "execution_count": 1
  },
  {
   "metadata": {
    "ExecuteTime": {
     "end_time": "2024-07-20T03:03:58.302335Z",
     "start_time": "2024-07-20T03:03:58.297016Z"
    }
   },
   "cell_type": "code",
   "source": [
    "import re\n",
    "result = re.split(r'([,.:;?_!\"()\\']|--|\\s)', raw_text)\n",
    "result = [item for item in result if item.strip()] # Remove space strings\n",
    "print(result[:30])\n",
    "print(len(result))"
   ],
   "id": "43927849bb526b33",
   "outputs": [
    {
     "name": "stdout",
     "output_type": "stream",
     "text": [
      "['I', 'HAD', 'always', 'thought', 'Jack', 'Gisburn', 'rather', 'a', 'cheap', 'genius', '--', 'though', 'a', 'good', 'fellow', 'enough', '--', 'so', 'it', 'was', 'no', 'great', 'surprise', 'to', 'me', 'to', 'hear', 'that', ',', 'in']\n",
      "4690\n"
     ]
    }
   ],
   "execution_count": 3
  },
  {
   "metadata": {},
   "cell_type": "markdown",
   "source": "# Converting Tokens into Token IDs",
   "id": "9a8744bba0349c18"
  },
  {
   "metadata": {},
   "cell_type": "code",
   "outputs": [],
   "execution_count": null,
   "source": "",
   "id": "e7c81abefb7109a7"
  }
 ],
 "metadata": {
  "kernelspec": {
   "display_name": "Python 3",
   "language": "python",
   "name": "python3"
  },
  "language_info": {
   "codemirror_mode": {
    "name": "ipython",
    "version": 2
   },
   "file_extension": ".py",
   "mimetype": "text/x-python",
   "name": "python",
   "nbconvert_exporter": "python",
   "pygments_lexer": "ipython2",
   "version": "2.7.6"
  }
 },
 "nbformat": 4,
 "nbformat_minor": 5
}
