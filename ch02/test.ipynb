{
 "cells": [
  {
   "metadata": {},
   "cell_type": "markdown",
   "source": "# Creating Tokens from Text",
   "id": "5c569e724e94aa9f"
  },
  {
   "metadata": {
    "ExecuteTime": {
     "end_time": "2024-07-20T18:07:22.481984Z",
     "start_time": "2024-07-20T18:07:22.477555Z"
    }
   },
   "cell_type": "code",
   "source": [
    "with open(\"01_main-chapter-code/the-verdict.txt\") as f:\n",
    "    raw_text = f.read()\n",
    "print(\"Total number of characters in the text file: \", len(raw_text))\n",
    "print(raw_text[:99])"
   ],
   "id": "initial_id",
   "outputs": [
    {
     "name": "stdout",
     "output_type": "stream",
     "text": [
      "Total number of characters in the text file:  20479\n",
      "I HAD always thought Jack Gisburn rather a cheap genius--though a good fellow enough--so it was no \n"
     ]
    }
   ],
   "execution_count": 20
  },
  {
   "metadata": {
    "ExecuteTime": {
     "end_time": "2024-07-20T18:07:23.826183Z",
     "start_time": "2024-07-20T18:07:23.812392Z"
    }
   },
   "cell_type": "code",
   "source": [
    "import re\n",
    "result = re.split(r'([,.:;?_!\"()\\']|--|\\s)', raw_text)\n",
    "result = [item for item in result if item.strip()] # Remove space strings\n",
    "print(result[:30])\n",
    "print(len(result))"
   ],
   "id": "43927849bb526b33",
   "outputs": [
    {
     "name": "stdout",
     "output_type": "stream",
     "text": [
      "['I', 'HAD', 'always', 'thought', 'Jack', 'Gisburn', 'rather', 'a', 'cheap', 'genius', '--', 'though', 'a', 'good', 'fellow', 'enough', '--', 'so', 'it', 'was', 'no', 'great', 'surprise', 'to', 'me', 'to', 'hear', 'that', ',', 'in']\n",
      "4690\n"
     ]
    }
   ],
   "execution_count": 21
  },
  {
   "metadata": {},
   "cell_type": "markdown",
   "source": "# Converting Tokens into Token IDs",
   "id": "9a8744bba0349c18"
  },
  {
   "metadata": {},
   "cell_type": "markdown",
   "source": "## Creating Vocabulary",
   "id": "1a9eaa58d8417763"
  },
  {
   "metadata": {
    "ExecuteTime": {
     "end_time": "2024-07-20T18:15:03.619629Z",
     "start_time": "2024-07-20T18:15:03.616157Z"
    }
   },
   "cell_type": "code",
   "source": [
    "all_words = sorted(set(result))  # Get unique words and sort them\n",
    "vocab_size = len(all_words)\n",
    "print(\"Total number of unique words in the text file: \", vocab_size)"
   ],
   "id": "e7c81abefb7109a7",
   "outputs": [
    {
     "name": "stdout",
     "output_type": "stream",
     "text": [
      "Total number of unique words in the text file:  1130\n"
     ]
    }
   ],
   "execution_count": 37
  },
  {
   "metadata": {
    "ExecuteTime": {
     "end_time": "2024-07-20T18:15:04.957885Z",
     "start_time": "2024-07-20T18:15:04.952629Z"
    }
   },
   "cell_type": "code",
   "source": [
    "vocab = {token: integer for integer, token in enumerate(all_words)}  # Create a dictionary of tokens and their IDs\n",
    "for i, item in enumerate(list(vocab.items())[-5:]):\n",
    "    print(item)\n",
    "    if i > 10:\n",
    "        break"
   ],
   "id": "3211f86d5d42d0dd",
   "outputs": [
    {
     "name": "stdout",
     "output_type": "stream",
     "text": [
      "('yet', 1125)\n",
      "('you', 1126)\n",
      "('younger', 1127)\n",
      "('your', 1128)\n",
      "('yourself', 1129)\n"
     ]
    }
   ],
   "execution_count": 38
  },
  {
   "metadata": {},
   "cell_type": "markdown",
   "source": "## Implementing a Simple Text Tokenizer",
   "id": "31661dbee8b16868"
  },
  {
   "metadata": {
    "ExecuteTime": {
     "end_time": "2024-07-20T03:50:12.793300Z",
     "start_time": "2024-07-20T03:50:12.788452Z"
    }
   },
   "cell_type": "code",
   "source": [
    "class SimpleTokenizerV1:\n",
    "    def __init__(self, vocabulary): # We must have a vocabulary to initialize the tokenizer\n",
    "        self.str_to_int = vocabulary  # Dictionary of tokens and their IDs {\"token1\": 0, ...}\n",
    "        self.int_to_str = {v: k for k, v in vocabulary.items()}  # Dictionary of IDs and their tokens {0: \"token1\", ...}\n",
    "        \n",
    "    def encode(self, text):\n",
    "        # Convert text to a list of token IDs\n",
    "        preprocessed_text = re.split(r'([,.:;?_!\"()\\']|--|\\s)', text)\n",
    "        preprocessed_text = [item.strip() for item in preprocessed_text if item.strip()]\n",
    "        ids = [self.str_to_int[token] for token in preprocessed_text]\n",
    "        return ids  # return a list of token IDs\n",
    "    \n",
    "    def decode(self, ids):\n",
    "        # Convert a list of token IDs to text with spaces\n",
    "        text = \" \".join([self.int_to_str[id] for id in ids])\n",
    "        \n",
    "        text = re.sub(r'\\s+([,.?!\"()\\'])', r'\\1', text)  # Remove spaces before punctuation\n",
    "        return text"
   ],
   "id": "9f720aec1ba8c470",
   "outputs": [],
   "execution_count": 13
  },
  {
   "metadata": {
    "ExecuteTime": {
     "end_time": "2024-07-20T18:06:34.241430Z",
     "start_time": "2024-07-20T18:06:34.235104Z"
    }
   },
   "cell_type": "code",
   "source": [
    "tokenizer = SimpleTokenizerV1(vocab)\n",
    "text = \"\"\"\"It's the last he painted, you know,\" Mrs. Gisburn said with pardonable pride.\"\"\"\n",
    "ids = tokenizer.encode(text)\n",
    "print(ids)\n",
    "print(tokenizer.decode(ids))"
   ],
   "id": "dc34dbb566eb2aef",
   "outputs": [
    {
     "name": "stdout",
     "output_type": "stream",
     "text": [
      "[1, 56, 2, 850, 988, 602, 533, 746, 5, 1126, 596, 5, 1, 67, 7, 38, 851, 1108, 754, 793, 7]\n",
      "\" It' s the last he painted, you know,\" Mrs. Gisburn said with pardonable pride.\n"
     ]
    }
   ],
   "execution_count": 19
  },
  {
   "metadata": {},
   "cell_type": "markdown",
   "source": "## SimpleTokenizerV1 doesn't handle unknown tokens. Create a new tokenizer SimpleTokenizerV2 that handles unknown tokens.",
   "id": "d252eaa059c419a8"
  },
  {
   "metadata": {
    "ExecuteTime": {
     "end_time": "2024-07-20T18:16:37.498147Z",
     "start_time": "2024-07-20T18:16:37.493770Z"
    }
   },
   "cell_type": "code",
   "source": [
    "all_words.extend([\"<|endoftext|>\", \"<|unk|>\"])  # Add special tokens for end of text and unknown words\n",
    "vocab = {token:integer for integer,token in enumerate(all_words)}  # Create a new vocabulary\n",
    "\n",
    "for i, item in enumerate(list(vocab.items())[-5:]):\n",
    "    print(item)"
   ],
   "id": "2195269c56db1a61",
   "outputs": [
    {
     "name": "stdout",
     "output_type": "stream",
     "text": [
      "('younger', 1127)\n",
      "('your', 1128)\n",
      "('yourself', 1129)\n",
      "('<|endoftext|>', 1132)\n",
      "('<|unk|>', 1133)\n"
     ]
    }
   ],
   "execution_count": 40
  },
  {
   "metadata": {
    "ExecuteTime": {
     "end_time": "2024-07-20T18:22:31.402541Z",
     "start_time": "2024-07-20T18:22:31.397922Z"
    }
   },
   "cell_type": "code",
   "source": [
    "class SimpleTokenizerV2:\n",
    "    def __init__(self, vocabulary): # We must have a vocabulary to initialize the tokenizer\n",
    "        self.str_to_int = vocabulary  # Dictionary of tokens and their IDs {\"token1\": 0, ...}\n",
    "        self.int_to_str = {v: k for k, v in vocabulary.items()}  # Dictionary of IDs and their tokens {0: \"token1\", ...}\n",
    "        \n",
    "    def encode(self, text) -> list:\n",
    "        preprocessed_tokens = re.split(r'([,.:;?_!\"()\\']|--|\\s)', text)\n",
    "        preprocessed_tokens = [item.strip() for item in preprocessed_tokens if item.strip()]  # remove empty space strings and empty strings\n",
    "        preprocessed_tokens = [item if item in self.str_to_int else \"<|unk|>\" for item in preprocessed_tokens]  # Replace unknown words from source text with <|unk|>\n",
    "        \n",
    "        ids = [self.str_to_int[token] for token in preprocessed_tokens]\n",
    "        return ids\n",
    "    \n",
    "    def decode(self, ids) -> str:\n",
    "        decoded_text = \" \".join([self.int_to_str[i] for i in ids])\n",
    "        decoded_text = re.sub(r'\\s+([,.?!\"()\\'])', r'\\1', decoded_text) # Remove spaces before punctuation\n",
    "        return decoded_text\n",
    "        "
   ],
   "id": "955f10a9bd3743a2",
   "outputs": [],
   "execution_count": 41
  },
  {
   "metadata": {
    "ExecuteTime": {
     "end_time": "2024-07-20T18:23:18.947575Z",
     "start_time": "2024-07-20T18:23:18.944352Z"
    }
   },
   "cell_type": "code",
   "source": [
    "text1 = \"Hello, do you like tea?\"\n",
    "text2 = \"In the sunlit terraces of the palace.\"\n",
    "text = \" <|endoftext|> \".join((text1, text2))\n",
    "print(text)"
   ],
   "id": "626cffb61f8d5502",
   "outputs": [
    {
     "name": "stdout",
     "output_type": "stream",
     "text": [
      "Hello, do you like tea? <|endoftext|> In the sunlit terraces of the palace.\n"
     ]
    }
   ],
   "execution_count": 43
  },
  {
   "metadata": {
    "ExecuteTime": {
     "end_time": "2024-07-20T18:24:03.352142Z",
     "start_time": "2024-07-20T18:24:03.348750Z"
    }
   },
   "cell_type": "code",
   "source": [
    "tokenizer = SimpleTokenizerV2(vocab)\n",
    "print(tokenizer.encode(text))\n",
    "print(tokenizer.decode(tokenizer.encode(text)))"
   ],
   "id": "8c573a07f7215ebf",
   "outputs": [
    {
     "name": "stdout",
     "output_type": "stream",
     "text": [
      "[1133, 5, 355, 1126, 628, 975, 10, 1132, 55, 988, 956, 984, 722, 988, 1133, 7]\n",
      "<|unk|>, do you like tea? <|endoftext|> In the sunlit terraces of the <|unk|>.\n"
     ]
    }
   ],
   "execution_count": 45
  },
  {
   "metadata": {},
   "cell_type": "markdown",
   "source": "## A Tokenzier Which can Handle Any Unknown Words: Byte Pair Encoding (BPE)",
   "id": "2da0dfef2696f863"
  },
  {
   "metadata": {
    "ExecuteTime": {
     "end_time": "2024-07-20T23:06:30.160439Z",
     "start_time": "2024-07-20T23:06:30.084057Z"
    }
   },
   "cell_type": "code",
   "source": [
    "# Use tiktoken library to implement BPE\n",
    "import tiktoken\n",
    "from importlib.metadata import version\n",
    "print(version(\"tiktoken\"))"
   ],
   "id": "eb96f91d503207d",
   "outputs": [
    {
     "name": "stdout",
     "output_type": "stream",
     "text": [
      "0.5.2\n"
     ]
    }
   ],
   "execution_count": 46
  },
  {
   "metadata": {
    "ExecuteTime": {
     "end_time": "2024-07-20T23:13:43.754014Z",
     "start_time": "2024-07-20T23:13:43.751095Z"
    }
   },
   "cell_type": "code",
   "source": "tokenizer = tiktoken.get_encoding(\"gpt2\")",
   "id": "527fc3961990c781",
   "outputs": [],
   "execution_count": 55
  },
  {
   "metadata": {
    "ExecuteTime": {
     "end_time": "2024-07-20T23:18:05.728505Z",
     "start_time": "2024-07-20T23:18:05.726085Z"
    }
   },
   "cell_type": "code",
   "source": [
    "text = \"Hello, do you like tea? <|endoftext|> In the sunlit terraces of someunknownPlace. Akwirw ier.\"\n",
    "ids = tokenizer.encode(text, allowed_special={\"<|endoftext|>\"})\n",
    "print(ids)\n",
    "\n",
    "text = tokenizer.decode(ids)\n",
    "print(text)"
   ],
   "id": "99c6a7dbd41ad202",
   "outputs": [
    {
     "name": "stdout",
     "output_type": "stream",
     "text": [
      "[15496, 11, 466, 345, 588, 8887, 30, 220, 50256, 554, 262, 4252, 18250, 8812, 2114, 286, 617, 34680, 27271, 13, 9084, 86, 343, 86, 220, 959, 13]\n",
      "Hello, do you like tea? <|endoftext|> In the sunlit terraces of someunknownPlace. Akwirw ier.\n"
     ]
    }
   ],
   "execution_count": 59
  },
  {
   "metadata": {},
   "cell_type": "code",
   "outputs": [],
   "execution_count": null,
   "source": "",
   "id": "cb64427e78e79aae"
  }
 ],
 "metadata": {
  "kernelspec": {
   "display_name": "Python 3",
   "language": "python",
   "name": "python3"
  },
  "language_info": {
   "codemirror_mode": {
    "name": "ipython",
    "version": 2
   },
   "file_extension": ".py",
   "mimetype": "text/x-python",
   "name": "python",
   "nbconvert_exporter": "python",
   "pygments_lexer": "ipython2",
   "version": "2.7.6"
  }
 },
 "nbformat": 4,
 "nbformat_minor": 5
}
